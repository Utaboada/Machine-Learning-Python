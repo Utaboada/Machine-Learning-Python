{
 "cells": [
  {
   "cell_type": "markdown",
   "metadata": {
    "deletable": false,
    "editable": false,
    "nbgrader": {
     "cell_type": "markdown",
     "checksum": "c826aa9ced2cea69fb27971a293688cd",
     "grade": false,
     "grade_id": "cell-c539c087e489ae62",
     "locked": true,
     "schema_version": 3,
     "solution": false,
     "task": false
    }
   },
   "source": [
    "# Lista 2 de Ejercicios\n",
    "\n",
    "### Objetivo:\n",
    "Este ejercicio pretende aumentar la destreza del estudiante para dibujar gráficos descriptivos comunes, testear múltiples modelos de clasificación de forma rápida y poner en práctica transformadores habituales de la librería __sklearn__.\n",
    "\n",
    "### Tarea del estudiante:\n",
    "\n",
    "#### Lee detenidamente las siguientes instrucciones y borra `raise NotImplementedError` en todas las celdas\n",
    "En cada trozo de código debes responder a la pregunta formulada, asegurándote de que el resultado queda guardado en la(s) variable(s) indicadas, que por defecto vienen inicializadas a `None`. Puedes usar variables intermedias siempre que el resultado final del cálculo quede guardado exactamente en la variable que indica el enunciado (debes reemplazar `None` el código necesario, pero nunca cambiar el nombre de las variables ya creadas). \n",
    "\n",
    "Después de cada ejercicio verás varias líneas de código ya hechas. Ejecútalas todas (no modifiques su código) y te dirán si tu solución es correcta o no, sin darte pistas de cómo se resuelve (el código de los tests no guarda relación con el código de la solución). Si la solución es correcta, no se mostrará nada, pero si es incorrecta, verás un error indicando cuál es el test que tu solución no pasa. Además de esas pruebas, se realizarán algunas más (ocultas) a la hora de puntuar el ejercicio, pero si tu código pasa con éxito las líneas que ves, puedes estar bastante seguro de que tu solución es correcta. Asegúrate de que todas las celdas de auto-evaluación indican que tu solución es correcta antes de subir el ejercicio a la plataforma. En caso contrario, no dudes en preguntar las dudas a través del foro -siempre explicando la duda en palabras, sin pegar código fuente-.\n",
    "\n",
    "Una vez finalizada la actividad, guarda tu fichero, ciérralo con File -> Close and Halt, y después vuélvelo a abrir y ejecútalo completo pinchando en Cell -> Run All Cells, y asegúrate de que no se lanza ningún error. De esta manera comprobarás que no has olvidado nada y que es posible ejecutarlo completo desde 0 y sin errores. No se corregirá ningún fichero que tenga errores de sintaxis y no se pueda, como mínimo, ejecutar completamente. No pasa nada si alguna de las comprobaciones lanza errores por ser incorrecta, pero el código de cada ejercicio no puede tener errores de sintaxis y debe al menos poderse ejecutar.\n",
    "\n",
    "RECUERDA SUBIR CADA UNO DE LOS FICHEROS .ipynb TAL CUAL (sueltos), SIN COMPRIMIR Y SIN CAMBIARLES EL NOMBRE. Los ficheros subidos deben tener **exactamente el mismo nombre de fichero que tenían cuando los recibiste**. No subas ningún PDF ni ningún fichero ZIP ni nada similar. La plataforma ya los separa automáticamente en carpetas que traen el nombre y apellidos del alumno, por lo que NO es necesario que lo pongas en ninguna parte."
   ]
  },
  {
   "cell_type": "markdown",
   "metadata": {
    "deletable": false,
    "editable": false,
    "nbgrader": {
     "cell_type": "markdown",
     "checksum": "0de428d8659f31a1e1389def62b19639",
     "grade": false,
     "grade_id": "cell-0a7317721d224b0d",
     "locked": true,
     "schema_version": 3,
     "solution": false,
     "task": false
    }
   },
   "source": [
    "## Parte 0: Inicialización\n",
    "\n",
    "En esta parte, simplemente cargamos las librerías que vamos a utilizar y establecemos una semilla para controlar la reproducibilidad del ejercicio."
   ]
  },
  {
   "cell_type": "code",
   "execution_count": 3,
   "metadata": {
    "deletable": false,
    "editable": false,
    "nbgrader": {
     "cell_type": "code",
     "checksum": "77da98a3c1e0c731a1aa23200986f284",
     "grade": false,
     "grade_id": "cell-f797ca551dde1426",
     "locked": true,
     "schema_version": 3,
     "solution": false,
     "task": false
    }
   },
   "outputs": [],
   "source": [
    "\"\"\" Librerías \"\"\"\n",
    "\n",
    "import pandas as pd\n",
    "import numpy as np\n",
    "import matplotlib.pyplot as plt\n",
    "import seaborn as sns\n",
    "import warnings\n",
    "\n",
    "sns.set_style('darkgrid')\n",
    "np.set_printoptions(precision=2)\n",
    "warnings.filterwarnings(\"ignore\")\n",
    "\n",
    "import sklearn\n",
    "from sklearn.preprocessing import MinMaxScaler, StandardScaler, Normalizer, Binarizer, RobustScaler\n",
    "from sklearn.compose import ColumnTransformer\n",
    "from sklearn.preprocessing import OneHotEncoder, LabelEncoder, PowerTransformer\n",
    "from sklearn.impute import SimpleImputer, KNNImputer\n",
    "\n",
    "from sklearn.feature_selection import SelectKBest, chi2, RFE\n",
    "from sklearn.model_selection import train_test_split\n",
    "from sklearn.pipeline import make_pipeline, Pipeline\n",
    "from sklearn.decomposition import PCA\n",
    "\n",
    "from sklearn.linear_model import LogisticRegression\n",
    "from sklearn.tree import DecisionTreeClassifier\n",
    "from sklearn.neighbors import KNeighborsClassifier\n",
    "from sklearn.discriminant_analysis import LinearDiscriminantAnalysis\n",
    "from sklearn.naive_bayes import GaussianNB\n",
    "from sklearn.ensemble import RandomForestClassifier, ExtraTreesClassifier\n",
    "from sklearn.svm import SVC\n",
    "\n",
    "from sklearn.metrics import accuracy_score, confusion_matrix, classification_report, f1_score\n",
    "\n",
    "from sklearn.model_selection import KFold, ShuffleSplit, LeaveOneOut, StratifiedKFold\n",
    "from sklearn.model_selection import cross_val_score, cross_val_predict\n",
    "from sklearn.model_selection import GridSearchCV, RandomizedSearchCV\n",
    "\n",
    "\"\"\" Semilla \"\"\"\n",
    "\n",
    "seed = 99"
   ]
  },
  {
   "cell_type": "markdown",
   "metadata": {
    "deletable": false,
    "editable": false,
    "nbgrader": {
     "cell_type": "markdown",
     "checksum": "ab921987842ffd80beb1ef6ae66fac18",
     "grade": false,
     "grade_id": "cell-183cf8a1a662f2c8",
     "locked": true,
     "schema_version": 3,
     "solution": false,
     "task": false
    }
   },
   "source": [
    "## Parte 1: Lectura y transformación de datos\n",
    "\n",
    "En esta parte, principalmente, cargaremos los datos de un repositorio git y realizaremos una breve limpieza de los datos para conseguir un dataframe listo."
   ]
  },
  {
   "cell_type": "code",
   "execution_count": 4,
   "metadata": {
    "deletable": false,
    "editable": false,
    "nbgrader": {
     "cell_type": "code",
     "checksum": "ef63564b73122595c05ec5c0a1049dd2",
     "grade": false,
     "grade_id": "cell-ea491e68f09cc1a3",
     "locked": true,
     "schema_version": 3,
     "solution": false,
     "task": false
    }
   },
   "outputs": [
    {
     "name": "stdout",
     "output_type": "stream",
     "text": [
      "Número de filas: 561, Número de columnas:10\n"
     ]
    },
    {
     "data": {
      "text/html": [
       "<div>\n",
       "<style scoped>\n",
       "    .dataframe tbody tr th:only-of-type {\n",
       "        vertical-align: middle;\n",
       "    }\n",
       "\n",
       "    .dataframe tbody tr th {\n",
       "        vertical-align: top;\n",
       "    }\n",
       "\n",
       "    .dataframe thead th {\n",
       "        text-align: right;\n",
       "    }\n",
       "</style>\n",
       "<table border=\"1\" class=\"dataframe\">\n",
       "  <thead>\n",
       "    <tr style=\"text-align: right;\">\n",
       "      <th></th>\n",
       "      <th>duration</th>\n",
       "      <th>protocol_type</th>\n",
       "      <th>service</th>\n",
       "      <th>flag</th>\n",
       "      <th>count</th>\n",
       "      <th>srv_count</th>\n",
       "      <th>serror_rate</th>\n",
       "      <th>dst_host_srv_count</th>\n",
       "      <th>dst_host_srv_serror_rate</th>\n",
       "      <th>labels</th>\n",
       "    </tr>\n",
       "  </thead>\n",
       "  <tbody>\n",
       "    <tr>\n",
       "      <th>0</th>\n",
       "      <td>0</td>\n",
       "      <td>b'tcp'</td>\n",
       "      <td>b'http'</td>\n",
       "      <td>b'SF'</td>\n",
       "      <td>0</td>\n",
       "      <td>0</td>\n",
       "      <td>0.0</td>\n",
       "      <td>0</td>\n",
       "      <td>0.0</td>\n",
       "      <td>b'normal.'</td>\n",
       "    </tr>\n",
       "    <tr>\n",
       "      <th>1</th>\n",
       "      <td>0</td>\n",
       "      <td>b'tcp'</td>\n",
       "      <td>b'http'</td>\n",
       "      <td>b'SF'</td>\n",
       "      <td>0</td>\n",
       "      <td>0</td>\n",
       "      <td>0.0</td>\n",
       "      <td>1</td>\n",
       "      <td>0.0</td>\n",
       "      <td>b'normal.'</td>\n",
       "    </tr>\n",
       "    <tr>\n",
       "      <th>2</th>\n",
       "      <td>0</td>\n",
       "      <td>b'tcp'</td>\n",
       "      <td>b'http'</td>\n",
       "      <td>b'SF'</td>\n",
       "      <td>0</td>\n",
       "      <td>1</td>\n",
       "      <td>0.0</td>\n",
       "      <td>1</td>\n",
       "      <td>0.0</td>\n",
       "      <td>b'normal.'</td>\n",
       "    </tr>\n",
       "    <tr>\n",
       "      <th>3</th>\n",
       "      <td>0</td>\n",
       "      <td>b'tcp'</td>\n",
       "      <td>b'http'</td>\n",
       "      <td>b'SF'</td>\n",
       "      <td>0</td>\n",
       "      <td>0</td>\n",
       "      <td>1.0</td>\n",
       "      <td>1</td>\n",
       "      <td>0.0</td>\n",
       "      <td>b'normal.'</td>\n",
       "    </tr>\n",
       "    <tr>\n",
       "      <th>4</th>\n",
       "      <td>0</td>\n",
       "      <td>b'tcp'</td>\n",
       "      <td>b'http'</td>\n",
       "      <td>b'SF'</td>\n",
       "      <td>0</td>\n",
       "      <td>0</td>\n",
       "      <td>0.0</td>\n",
       "      <td>1</td>\n",
       "      <td>1.0</td>\n",
       "      <td>b'normal.'</td>\n",
       "    </tr>\n",
       "  </tbody>\n",
       "</table>\n",
       "</div>"
      ],
      "text/plain": [
       "   duration protocol_type  service   flag  count  srv_count  serror_rate  \\\n",
       "0         0        b'tcp'  b'http'  b'SF'      0          0          0.0   \n",
       "1         0        b'tcp'  b'http'  b'SF'      0          0          0.0   \n",
       "2         0        b'tcp'  b'http'  b'SF'      0          1          0.0   \n",
       "3         0        b'tcp'  b'http'  b'SF'      0          0          1.0   \n",
       "4         0        b'tcp'  b'http'  b'SF'      0          0          0.0   \n",
       "\n",
       "   dst_host_srv_count  dst_host_srv_serror_rate      labels  \n",
       "0                   0                       0.0  b'normal.'  \n",
       "1                   1                       0.0  b'normal.'  \n",
       "2                   1                       0.0  b'normal.'  \n",
       "3                   1                       0.0  b'normal.'  \n",
       "4                   1                       1.0  b'normal.'  "
      ]
     },
     "execution_count": 4,
     "metadata": {},
     "output_type": "execute_result"
    }
   ],
   "source": [
    "df = pd.read_csv('https://raw.githubusercontent.com/eduardofc/data/main/kddcup99.csv')\n",
    "\n",
    "print(f'Número de filas: {df.shape[0]}, Número de columnas:{df.shape[1]}')\n",
    "df.head()\n"
   ]
  },
  {
   "cell_type": "markdown",
   "metadata": {
    "deletable": false,
    "editable": false,
    "nbgrader": {
     "cell_type": "markdown",
     "checksum": "3ec2d84409e4a93c9e89ef1cc7712dbf",
     "grade": false,
     "grade_id": "cell-a196be290eb56313",
     "locked": true,
     "schema_version": 3,
     "solution": false,
     "task": false
    }
   },
   "source": [
    "Para entender la evolución de las transformaciones que vamos a ir haciendo, practicaremos algunos de los plots más utilizados. \n",
    "\n",
    "En la siguiente celda se pide, mostrar un _countplot_ (_barplot_ de seaborn) para todas las variables del _dataframe_ (df)."
   ]
  },
  {
   "cell_type": "code",
   "execution_count": 5,
   "metadata": {
    "deletable": false,
    "nbgrader": {
     "cell_type": "code",
     "checksum": "6cd4606bcb52663e9237a0fef334d42e",
     "grade": false,
     "grade_id": "cell-a15861a1f91032f7",
     "locked": false,
     "schema_version": 3,
     "solution": true,
     "task": false
    }
   },
   "outputs": [
    {
     "data": {
      "image/png": "[encoded data removed]",
      "text/plain": [
       "<Figure size 1500x700 with 1 Axes>"
      ]
     },
     "metadata": {},
     "output_type": "display_data"
    },
    {
     "data": {
      "image/png": "[encoded data removed]",
      "text/plain": [
       "<Figure size 1500x700 with 1 Axes>"
      ]
     },
     "metadata": {},
     "output_type": "display_data"
    },
    {
     "data": {
      "image/png": "[encoded data removed]",
      "text/plain": [
       "<Figure size 1500x700 with 1 Axes>"
      ]
     },
     "metadata": {},
     "output_type": "display_data"
    },
    {
     "data": {
      "image/png": "[encoded data removed]",
      "text/plain": [
       "<Figure size 1500x700 with 1 Axes>"
      ]
     },
     "metadata": {},
     "output_type": "display_data"
    },
    {
     "data": {
      "image/png": "[encoded data removed]",
      "text/plain": [
       "<Figure size 1500x700 with 1 Axes>"
      ]
     },
     "metadata": {},
     "output_type": "display_data"
    },
    {
     "data": {
      "image/png": "[encoded data removed]",
      "text/plain": [
       "<Figure size 1500x700 with 1 Axes>"
      ]
     },
     "metadata": {},
     "output_type": "display_data"
    },
    {
     "data": {
      "image/png": "[encoded data removed]",
      "text/plain": [
       "<Figure size 1500x700 with 1 Axes>"
      ]
     },
     "metadata": {},
     "output_type": "display_data"
    },
    {
     "data": {
      "image/png": "[encoded data removed]",
      "text/plain": [
       "<Figure size 1500x700 with 1 Axes>"
      ]
     },
     "metadata": {},
     "output_type": "display_data"
    },
    {
     "data": {
      "image/png": "[encoded data removed]",
      "text/plain": [
       "<Figure size 1500x700 with 1 Axes>"
      ]
     },
     "metadata": {},
     "output_type": "display_data"
    },
    {
     "data": {
      "image/png": "[encoded data removed]",
      "text/plain": [
       "<Figure size 1500x700 with 1 Axes>"
      ]
     },
     "metadata": {},
     "output_type": "display_data"
    }
   ],
   "source": [
    "# YOUR CODE HERE\n",
    "for column in df.columns:\n",
    "    plt.figure(figsize=(15,7)) \n",
    "    plt.subplot(1,2,2)\n",
    "    sns.countplot(x=column, data=df)\n",
    "    plt.show()"
   ]
  },
  {
   "cell_type": "markdown",
   "metadata": {
    "deletable": false,
    "editable": false,
    "nbgrader": {
     "cell_type": "markdown",
     "checksum": "1316f75bc806fc432f3b8797d3135596",
     "grade": false,
     "grade_id": "cell-c7033e84359e60a4",
     "locked": true,
     "schema_version": 3,
     "solution": false,
     "task": false
    }
   },
   "source": [
    "Trabajaremos las variables categóricas con __pandas__. Trataremos de reducir el número de variables categóricas cuando existen demasiadas casuísiticas o cuando existen muy pocos registros en una categoría. \n",
    "\n",
    "En esta celda se pide, para las variables _flag_ y _service_, localizar las 2 categorías más frecuentes y transformar estas columnas para que ponga _resto_ a todos aquellos registros de estas variables que no están entre las frecuentes, dejando así tres catgorías en total."
   ]
  },
  {
   "cell_type": "code",
   "execution_count": 6,
   "metadata": {
    "deletable": false,
    "nbgrader": {
     "cell_type": "code",
     "checksum": "d89d88f4d66036c86f8de6ff454a87f8",
     "grade": false,
     "grade_id": "cell-a5a25314bd66e4a1",
     "locked": false,
     "schema_version": 3,
     "solution": true,
     "task": false
    }
   },
   "outputs": [
    {
     "name": "stdout",
     "output_type": "stream",
     "text": [
      "b'S0'    212\n",
      "resto    198\n",
      "b'SF'    151\n",
      "Name: flag, dtype: int64\n",
      "resto          455\n",
      "b'http'         65\n",
      "b'ftp_data'     41\n",
      "Name: service, dtype: int64\n"
     ]
    }
   ],
   "source": [
    "# YOUR CODE HERE\n",
    "\n",
    "\n",
    "df['flag'] = df['flag'].mask(df['flag'].value_counts()[df['flag']].values < 100, 'resto')\n",
    "df['service'] = df['service'].mask(df['service'].value_counts()[df['service']].values < 35, 'resto')\n",
    "print(df['flag'].value_counts())\n",
    "print(df['service'].value_counts())"
   ]
  },
  {
   "cell_type": "markdown",
   "metadata": {
    "deletable": false,
    "editable": false,
    "nbgrader": {
     "cell_type": "markdown",
     "checksum": "f7bdeb31704244962169b8844c4d7c31",
     "grade": false,
     "grade_id": "cell-ef4218ea50842482",
     "locked": true,
     "schema_version": 3,
     "solution": false,
     "task": false
    }
   },
   "source": [
    "Celda de control:"
   ]
  },
  {
   "cell_type": "code",
   "execution_count": 7,
   "metadata": {
    "deletable": false,
    "editable": false,
    "nbgrader": {
     "cell_type": "code",
     "checksum": "f9432002c0ff05d6ce920c0a18186f02",
     "grade": true,
     "grade_id": "cell-f34e386accfefe10",
     "locked": true,
     "points": 1,
     "schema_version": 3,
     "solution": false,
     "task": false
    }
   },
   "outputs": [],
   "source": [
    "assert df.shape == (561, 10)\n",
    "assert df.groupby('service').size()[\"b'ftp_data'\"] == 41\n",
    "assert df.groupby('service').size()[\"b'http'\"] == 65\n",
    "assert df.groupby('service').size()[\"resto\"] == 455"
   ]
  },
  {
   "cell_type": "markdown",
   "metadata": {
    "deletable": false,
    "editable": false,
    "nbgrader": {
     "cell_type": "markdown",
     "checksum": "4af040ef2774a08719a7dbaf7eb4b354",
     "grade": false,
     "grade_id": "cell-13029ef7207a7ef3",
     "locked": true,
     "schema_version": 3,
     "solution": false,
     "task": false
    }
   },
   "source": [
    "## Parte 2: Modelos\n",
    "\n",
    "En esta parte, testearemos distintos modelos con trasnformaciones adicionales a las vistas en la Lista 1 de Ejercicios.\n",
    "\n",
    "Nota: Recordar utilizar la semilla cuando aplique."
   ]
  },
  {
   "cell_type": "code",
   "execution_count": 8,
   "metadata": {
    "deletable": false,
    "editable": false,
    "nbgrader": {
     "cell_type": "code",
     "checksum": "0ed771d84a86f20c0f11d3c6f0b8e321",
     "grade": false,
     "grade_id": "cell-cc9160fb2e1ce323",
     "locked": true,
     "schema_version": 3,
     "solution": false,
     "task": false
    }
   },
   "outputs": [],
   "source": [
    "models = []\n",
    "models.append(('LR', LogisticRegression(random_state=seed)))\n",
    "models.append(('KNN', KNeighborsClassifier()))\n",
    "models.append(('DTC', DecisionTreeClassifier(random_state=seed)))\n",
    "models.append(('NB', GaussianNB()))\n",
    "models.append(('RFC', RandomForestClassifier(random_state=seed)))\n",
    "\n",
    "def boxplots_algorithms(results, names):\n",
    "    plt.figure(figsize=(8,4))\n",
    "    plt.boxplot(results)\n",
    "    plt.xticks(range(1,len(names)+1), names)\n",
    "    plt.show()\n",
    "    \n",
    "def pca_results(results, names, components):\n",
    "    df2 = pd.DataFrame(zip(results, names, components), columns=['results', 'names', 'components'])\n",
    "    \n",
    "    sns.catplot(data=df2, kind=\"bar\", x=\"names\", y=\"results\", hue=\"components\", height=5, aspect=15/5)\n",
    "    plt.ylim((0.9, 1.))\n",
    "    plt.show()\n",
    "    \n",
    "cat_cols = ['protocol_type', 'service', 'flag']\n",
    "num_cols = ['duration', 'count', 'srv_count', 'serror_rate', \n",
    "            'dst_host_srv_count', 'dst_host_srv_serror_rate']\n",
    "target = 'labels'"
   ]
  },
  {
   "cell_type": "markdown",
   "metadata": {
    "deletable": false,
    "editable": false,
    "nbgrader": {
     "cell_type": "markdown",
     "checksum": "5af68697f8c9f6aa2d19346aced3aba2",
     "grade": false,
     "grade_id": "cell-a7131c8fd4aeb634",
     "locked": true,
     "schema_version": 3,
     "solution": false,
     "task": false
    }
   },
   "source": [
    "### Modelos 1 \n",
    "\n",
    "Realizar un estudio de machine learning con las siguientes características:\n",
    "* probar los 5 algoritmos en bucle\n",
    "* usar la técnica de validación cruzada KFolds (5 _folds_) de forma aleatoria.\n",
    "* entrenar solo con variables numéricas\n",
    "\n",
    "En cada iteración del bucle, almacenar el resultado de cada validación cruzada en una variable _results_ y los nombres de cada algoritmo en una variable _names_.\n",
    "\n",
    "Finalmente, usaremos la función *boxplots_algorithms* para dibujar los resultados.\n",
    "\n",
    "Nota: La función _cross_val_score_ nos vale para estudiar el comportamiento de los modelos con una validación cruzada."
   ]
  },
  {
   "cell_type": "code",
   "execution_count": 9,
   "metadata": {
    "deletable": false,
    "nbgrader": {
     "cell_type": "code",
     "checksum": "6c29fc6c7bdfbbfbd0d03bd12ada6a30",
     "grade": false,
     "grade_id": "cell-09c4daa9d9a689f8",
     "locked": false,
     "schema_version": 3,
     "solution": true,
     "task": false
    }
   },
   "outputs": [
    {
     "data": {
      "image/png": "[encoded data removed]",
      "text/plain": [
       "<Figure size 800x400 with 1 Axes>"
      ]
     },
     "metadata": {},
     "output_type": "display_data"
    },
    {
     "name": "stdout",
     "output_type": "stream",
     "text": [
      "0.884\n",
      "0.881\n",
      "0.9\n",
      "0.834\n",
      "0.898\n"
     ]
    }
   ],
   "source": [
    "results = []\n",
    "names = []\n",
    "\n",
    "# #Preparar el bucle\n",
    "kfold = KFold(n_splits=5, random_state=seed, shuffle=True)\n",
    "df_numeric = df.select_dtypes(include='number')\n",
    "X = df_numeric[['duration', 'count', 'srv_count', 'serror_rate', 'dst_host_srv_count',\n",
    "       'dst_host_srv_serror_rate']]\n",
    "y = df['labels']\n",
    "\n",
    "\n",
    "\n",
    "#Bucle para cada modelo\n",
    "for name, model in models:\n",
    "    scaler = RobustScaler()\n",
    "    kf = KFold(n_splits=5, shuffle=True, random_state=seed)\n",
    "    acc = cross_val_score(model, X, y, cv=kf)\n",
    "    names.append(name)\n",
    "    results.append(acc)\n",
    "\n",
    "boxplots_algorithms(results, names)\n"
   ]
  },
  {
   "cell_type": "markdown",
   "metadata": {
    "deletable": false,
    "editable": false,
    "nbgrader": {
     "cell_type": "markdown",
     "checksum": "40a70bd83854fd262f2d141bed6abf8c",
     "grade": false,
     "grade_id": "cell-8d2e9053f818a102",
     "locked": true,
     "schema_version": 3,
     "solution": false,
     "task": false
    }
   },
   "source": [
    "Celda de control:"
   ]
  },
  {
   "cell_type": "code",
   "execution_count": 10,
   "metadata": {
    "deletable": false,
    "editable": false,
    "nbgrader": {
     "cell_type": "code",
     "checksum": "708a9aae91ccbad203bdcfc2e07b95fc",
     "grade": true,
     "grade_id": "cell-4787932c001bbea8",
     "locked": true,
     "points": 2,
     "schema_version": 3,
     "solution": false,
     "task": false
    }
   },
   "outputs": [],
   "source": [
    "assert np.round(results[0].mean(),3) == 0.884\n",
    "assert np.round(results[1].mean(),3) == 0.881\n",
    "assert np.round(results[2].mean(),3) == 0.900\n",
    "assert np.round(results[3].mean(),3) == 0.834\n",
    "assert np.round(results[4].mean(),3) == 0.898"
   ]
  },
  {
   "cell_type": "markdown",
   "metadata": {
    "deletable": false,
    "editable": false,
    "nbgrader": {
     "cell_type": "markdown",
     "checksum": "ba1c99c1eb8646ca44216756c3b00af8",
     "grade": false,
     "grade_id": "cell-deb8e35d9f8934f2",
     "locked": true,
     "schema_version": 3,
     "solution": false,
     "task": false
    }
   },
   "source": [
    "### Modelos 2\n",
    "\n",
    "Realizar un estudio de machine learning con las siguientes características:\n",
    "* probar los 5 algoritmos en bucle\n",
    "* usar la técnica de validación cruzada KFolds (5 _folds_) aleatoria\n",
    "* usar un pipeline que encadene \n",
    "    * OneHotEncoder simple con las variables categóricas\n",
    "    * algortimo \n",
    "    * _remainder_ tipo _drop_\n",
    "* Filtrar en X todas las variables**\n",
    "\n",
    "\\*\\*Nota: Aunque la opción de _drop_ en el ColumnTransformer haga que solo se entrene con las variables que son usadas en este transformador, vamos a filtrar *X = df[cat_cols+num_cols]* para que podamos explorar la mejora en el siguiente apartado."
   ]
  },
  {
   "cell_type": "code",
   "execution_count": 11,
   "metadata": {
    "deletable": false,
    "nbgrader": {
     "cell_type": "code",
     "checksum": "db51858663007222b17b818dd7683649",
     "grade": false,
     "grade_id": "cell-444a8be19a0a9fb0",
     "locked": false,
     "schema_version": 3,
     "solution": true,
     "task": false
    }
   },
   "outputs": [
    {
     "data": {
      "image/png": "[encoded data removed]",
      "text/plain": [
       "<Figure size 800x400 with 1 Axes>"
      ]
     },
     "metadata": {},
     "output_type": "display_data"
    }
   ],
   "source": [
    "results = []\n",
    "names = []\n",
    "X = df[cat_cols+num_cols]\n",
    "ct = ColumnTransformer(\n",
    "    [('onehot', OneHotEncoder(), cat_cols)],\n",
    "    remainder='drop'\n",
    ")\n",
    "\n",
    "for name, model in models:\n",
    "    kf = KFold(n_splits=5, shuffle=True, random_state=seed)  \n",
    "    \n",
    "    pipe = Pipeline([\n",
    "        ('ColumnTransformer', ct),\n",
    "        (name, model)\n",
    "    ])       \n",
    "\n",
    "    acc = cross_val_score(pipe, X, y, cv=kf)\n",
    "    names.append(name)\n",
    "    results.append(acc)\n",
    "\n",
    "\n",
    "boxplots_algorithms(results, names)"
   ]
  },
  {
   "cell_type": "markdown",
   "metadata": {
    "deletable": false,
    "editable": false,
    "nbgrader": {
     "cell_type": "markdown",
     "checksum": "d435c2fda12c9a9cbf7e946ddeed2510",
     "grade": false,
     "grade_id": "cell-51fa3f4c2a9bca5e",
     "locked": true,
     "schema_version": 3,
     "solution": false,
     "task": false
    }
   },
   "source": [
    "Celda de control:"
   ]
  },
  {
   "cell_type": "code",
   "execution_count": 12,
   "metadata": {
    "deletable": false,
    "editable": false,
    "nbgrader": {
     "cell_type": "code",
     "checksum": "490d782671dd7a9ac195205b97215771",
     "grade": true,
     "grade_id": "cell-55e762bdf9990d27",
     "locked": true,
     "points": 2,
     "schema_version": 3,
     "solution": false,
     "task": false
    }
   },
   "outputs": [],
   "source": [
    "assert np.round(results[0].mean(),3) == 0.911\n",
    "assert np.round(results[1].mean(),3) == 0.747\n",
    "assert np.round(results[2].mean(),3) == 0.913\n",
    "assert np.round(results[3].mean(),3) == 0.864\n",
    "assert np.round(results[4].mean(),3) == 0.909"
   ]
  },
  {
   "cell_type": "markdown",
   "metadata": {
    "deletable": false,
    "editable": false,
    "nbgrader": {
     "cell_type": "markdown",
     "checksum": "8935123ebd044a3ff09cf6d350c683e9",
     "grade": false,
     "grade_id": "cell-59cc50a8317dc182",
     "locked": true,
     "schema_version": 3,
     "solution": false,
     "task": false
    }
   },
   "source": [
    "### Modelos 3\n",
    "\n",
    "Realizar un mismo estudio que en Modelos 2, pero esta vez cambiando, la opción _remainder_ a tipo _passthrough_.\n",
    "\n",
    "Nota, se recomienda que estudiar el significado de este argumento y reflexionar sobre los resultados."
   ]
  },
  {
   "cell_type": "code",
   "execution_count": 13,
   "metadata": {
    "deletable": false,
    "nbgrader": {
     "cell_type": "code",
     "checksum": "e1c8073c97bf79ae6b346ff4746861e3",
     "grade": false,
     "grade_id": "cell-4146020f04d16253",
     "locked": false,
     "schema_version": 3,
     "solution": true,
     "task": false
    }
   },
   "outputs": [
    {
     "data": {
      "image/png": "[encoded data removed]",
      "text/plain": [
       "<Figure size 800x400 with 1 Axes>"
      ]
     },
     "metadata": {},
     "output_type": "display_data"
    }
   ],
   "source": [
    "results = []\n",
    "names = []\n",
    "\n",
    "results = []\n",
    "names = []\n",
    "\n",
    "ct = ColumnTransformer(\n",
    "    [('onehot', OneHotEncoder(), cat_cols)],\n",
    "    remainder='passthrough'\n",
    ")\n",
    "\n",
    "for name, model in models:\n",
    "    kf = KFold(n_splits=5, shuffle=True, random_state=seed)\n",
    "    \n",
    "    pipe = Pipeline([\n",
    "        ('ColumnTransformer', ct),\n",
    "        (name, model)\n",
    "    ])             \n",
    "\n",
    "    acc = cross_val_score(pipe, X, y, cv=kf)\n",
    "    names.append(name)\n",
    "    results.append(acc)\n",
    "\n",
    "boxplots_algorithms(results, names)"
   ]
  },
  {
   "cell_type": "markdown",
   "metadata": {
    "deletable": false,
    "editable": false,
    "nbgrader": {
     "cell_type": "markdown",
     "checksum": "06b3619b0832ff08944ba1519a46d11e",
     "grade": false,
     "grade_id": "cell-467dc91a009ad969",
     "locked": true,
     "schema_version": 3,
     "solution": false,
     "task": false
    }
   },
   "source": [
    "Celda de control:"
   ]
  },
  {
   "cell_type": "markdown",
   "metadata": {
    "deletable": false,
    "editable": false,
    "nbgrader": {
     "cell_type": "markdown",
     "checksum": "68017143f759c90cdd75d4f2ddeda19c",
     "grade": false,
     "grade_id": "cell-0f4e6c0f858bae6a",
     "locked": true,
     "schema_version": 3,
     "solution": false,
     "task": false
    }
   },
   "source": [
    "Celda de control:"
   ]
  },
  {
   "cell_type": "code",
   "execution_count": 14,
   "metadata": {},
   "outputs": [],
   "source": [
    "assert np.round(results[0].mean(),3) == 0.971\n",
    "assert np.round(results[1].mean(),3) == 0.959\n",
    "assert np.round(results[2].mean(),3) == 0.968\n",
    "assert np.round(results[3].mean(),3) == 0.904\n",
    "assert np.round(results[4].mean(),3) == 0.973"
   ]
  },
  {
   "attachments": {},
   "cell_type": "markdown",
   "metadata": {},
   "source": [
    "### Modelos 4\n",
    "\n",
    "Vamos a tratar de explorar si mejorarmos el modelo mediante una transformación de PCA. Usaremos las mismas (X,y). En esta celda se pide, realizar un estudio de machine learning en bucle con las siguientes características: \n",
    "* probad 5 algoritmos en bucle\n",
    "* probad 4 PCA dentro del pipeline y en bucle (dentro del bucle anterior) con _n\\_components_=2,3,4,5, para cada algoritmo \n",
    "* usad la técnica de validación Folds (5 folds) aleatorio\n",
    "* usad un pipeline que encadene \n",
    "     * One-hot-encoder con las variables categoricas, especificando eliminar la primera columna si es binaria\n",
    "     * PCA\n",
    "     * algortimo \n",
    "* mostrad la matriz de confusión en cada caso\n",
    "\n",
    "En cada iteración del bucle, almacenar la media de cada resultado de cada validación cruzada en una variable _results_ y los nombres de cada algoritmo en una variable _names_. Además, se pide guardar las componentes en la lista _components_ (que debe quedar así [2,2,2,2,3,3,3,3,4,4,4,4,5,5,5,5]) \n",
    "\n",
    "Finalmente, usaremos la función *pca_results* para dibujar los resultados.\n",
    "\n",
    "Nota 1, ojo que esta vez se pide guardar la media de los resultados, no todos los resultados.\n",
    "\n",
    "Nota 2, revisad que primero sea un bucle de modelos y dentro un bucle de componentes. "
   ]
  },
  {
   "cell_type": "code",
   "execution_count": 20,
   "metadata": {},
   "outputs": [
    {
     "name": "stdout",
     "output_type": "stream",
     "text": [
      "Componente 2 del modelo LogisticRegression(random_state=99) -> [[322  11]\n",
      " [ 24 204]]\n",
      "Componente 3 del modelo LogisticRegression(random_state=99) -> [[322  11]\n",
      " [ 25 203]]\n",
      "Componente 4 del modelo LogisticRegression(random_state=99) -> [[315  18]\n",
      " [ 17 211]]\n",
      "Componente 5 del modelo LogisticRegression(random_state=99) -> [[316  17]\n",
      " [ 19 209]]\n",
      "Componente 2 del modelo KNeighborsClassifier() -> [[328   5]\n",
      " [ 13 215]]\n",
      "Componente 3 del modelo KNeighborsClassifier() -> [[319  14]\n",
      " [  9 219]]\n",
      "Componente 4 del modelo KNeighborsClassifier() -> [[323  10]\n",
      " [ 10 218]]\n",
      "Componente 5 del modelo KNeighborsClassifier() -> [[323  10]\n",
      " [ 11 217]]\n",
      "Componente 2 del modelo DecisionTreeClassifier(random_state=99) -> [[331   2]\n",
      " [ 15 213]]\n",
      "Componente 3 del modelo DecisionTreeClassifier(random_state=99) -> [[331   2]\n",
      " [ 15 213]]\n",
      "Componente 4 del modelo DecisionTreeClassifier(random_state=99) -> [[330   3]\n",
      " [ 16 212]]\n",
      "Componente 5 del modelo DecisionTreeClassifier(random_state=99) -> [[330   3]\n",
      " [ 16 212]]\n",
      "Componente 2 del modelo GaussianNB() -> [[333   0]\n",
      " [ 44 184]]\n",
      "Componente 3 del modelo GaussianNB() -> [[327   6]\n",
      " [ 38 190]]\n",
      "Componente 4 del modelo GaussianNB() -> [[328   5]\n",
      " [ 35 193]]\n",
      "Componente 5 del modelo GaussianNB() -> [[328   5]\n",
      " [ 35 193]]\n",
      "Componente 2 del modelo RandomForestClassifier(random_state=99) -> [[331   2]\n",
      " [ 14 214]]\n",
      "Componente 3 del modelo RandomForestClassifier(random_state=99) -> [[331   2]\n",
      " [ 14 214]]\n",
      "Componente 4 del modelo RandomForestClassifier(random_state=99) -> [[332   1]\n",
      " [ 14 214]]\n",
      "Componente 5 del modelo RandomForestClassifier(random_state=99) -> [[331   2]\n",
      " [ 14 214]]\n"
     ]
    },
    {
     "data": {
      "image/png": "[encoded data removed]",
      "text/plain": [
       "<Figure size 1586.61x500 with 1 Axes>"
      ]
     },
     "metadata": {},
     "output_type": "display_data"
    }
   ],
   "source": [
    "results = []\n",
    "names = []\n",
    "components = []\n",
    "\n",
    "ct = ColumnTransformer([\n",
    "    ('ohe1', OneHotEncoder(drop='if_binary'), cat_cols),\n",
    "    ],\n",
    "    remainder='passthrough'\n",
    "    )\n",
    "\n",
    "for name, model in models:\n",
    "    for comp in range(2,6):\n",
    "\n",
    "        kf = KFold(n_splits=5, shuffle=True, random_state=seed)\n",
    "        pipe = Pipeline([('ColTransformer', ct),\n",
    "                         ('PCA', PCA(n_components=comp)),\n",
    "                         (name,model)])\n",
    "        acc = cross_val_score(pipe, X, y, cv=kf)\n",
    "\n",
    "        y_pred = cross_val_predict(pipe, X, y, cv=kf)\n",
    "\n",
    "        names.append(name)\n",
    "        results.append(np.mean(acc))\n",
    "        components.append(comp)\n",
    "        # Mostramos la matriz de confusión\n",
    "        print(f\"Componente {comp} del modelo {model}\",'->', confusion_matrix(y, y_pred=y_pred))\n",
    "\n",
    "pca_results(results, names, components)"
   ]
  },
  {
   "cell_type": "code",
   "execution_count": 21,
   "metadata": {},
   "outputs": [],
   "source": [
    "assert [np.round(results[x], 3) for x in [1,10,17]] == [0.936, 0.966, 0.972]"
   ]
  },
  {
   "cell_type": "markdown",
   "metadata": {
    "deletable": false,
    "editable": false,
    "nbgrader": {
     "cell_type": "markdown",
     "checksum": "152e0962cfc7216e063ac93c8d492513",
     "grade": false,
     "grade_id": "cell-75af48b272ef32ec",
     "locked": true,
     "schema_version": 3,
     "solution": false,
     "task": false
    }
   },
   "source": [
    "### Modelos 5\n",
    "\n",
    "De ahora en adelante, trabajaremos solo con el algoritmo de RandomForestClassifier (sin PCA) y entrenaremos con todas las variables, teniendo en cuenta que las variables categóricas deben transformarse previamente con un OHE.\n",
    "\n",
    "En esta celda se pide, separar primero el _dataset_ en _train_ (80%) y _test_ (20%). Tras ello, solo con el _train_, se pide realizar un ajuste de machine learning con las siguientes características:\n",
    "\n",
    "* Sin validación cruzada\n",
    "* Usar un pipeline que encadene \n",
    "    * One-hot-encoder con las variables categóricas, especificando eliminar la primera columna si es binaria\n",
    "    * algortimo \n",
    "* Realizar la predicción de _train_ y _test_ por separado para poder mostrar ambas matrices de confusión.\n",
    "\n",
    "En esta parte, conviene reflexionar si se está haciendo _overfitting_. Al entrenar con _train_ y evaluar con _test_ después, si las métricas difieren demasiado a juicio del _data scientist_, podríamos considerar que pueda existir sobreajuste. Teóricamente la validación cruzada ayuda a minimizar este problema; sin embargo, no siempre es así (sobre todo con algoritmos de tipo árbol) y conviene chequear que esto no ocurra. En esta celda, se va a pedir almacenar el _accuracy_ del modelo para los conjuntos _train_ y _test_, y se van a almacenar en las variables _acc_train_ y _acc_test_.\n",
    "\n",
    "Otra cosa a tener en cuenta es la matriz de confusión. Ésta ofrece siempre el resultado de aplicar el modelo en la clasificación de una forma más legible, lo que ayuda a interpretar mejor el comportamiento de este modelo. En esta celda, almacenaremos ambas matrices de confusión en las variables _cm_train_ y _cm_test_.\n",
    "\n",
    "Nota, no olvidar la semilla."
   ]
  },
  {
   "cell_type": "code",
   "execution_count": 23,
   "metadata": {
    "deletable": false,
    "nbgrader": {
     "cell_type": "code",
     "checksum": "11303ef8b8a64b32907fa880272af1f8",
     "grade": false,
     "grade_id": "cell-f7165c2db7db0db0",
     "locked": false,
     "schema_version": 3,
     "solution": true,
     "task": false
    }
   },
   "outputs": [
    {
     "name": "stdout",
     "output_type": "stream",
     "text": [
      "[[265   0]\n",
      " [  9 174]]\n",
      "0.9799107142857143\n",
      "[[68  0]\n",
      " [ 5 40]]\n",
      "0.9557522123893806\n"
     ]
    }
   ],
   "source": [
    "acc_train = 0\n",
    "acc_test = 0\n",
    "\n",
    "cm_train = np.array([[0, 0],[0, 0]])\n",
    "cm_test = np.array([[0, 0],[0, 0]])\n",
    "\n",
    "\n",
    "\n",
    "X = df[cat_cols+num_cols]\n",
    "y = df['labels']\n",
    "\n",
    "X_train, X_test, y_train, y_test = train_test_split(X, y, test_size=0.2, random_state=seed)\n",
    "\n",
    "ct = ColumnTransformer([\n",
    "            ('onehot', OneHotEncoder(drop='if_binary'), cat_cols)\n",
    "        ], remainder='passthrough')\n",
    "\n",
    "pipe = Pipeline([('ColTransformer', ct),\n",
    "                 ('RandomForest', RandomForestClassifier(random_state=seed))])\n",
    "\n",
    "pipe.fit(X_train, y_train)\n",
    "\n",
    "acc_train = pipe.score(X_train, y_train)\n",
    "acc_test = pipe.score(X_test, y_test)\n",
    "\n",
    "y_train_hat = pipe.predict(X_train)\n",
    "y_test_hat = pipe.predict(X_test)\n",
    "\n",
    "cm_train = confusion_matrix(y_train, y_train_hat)\n",
    "cm_test = confusion_matrix(y_test, y_test_hat)\n",
    "\n",
    "print(cm_train)\n",
    "print(acc_train)\n",
    "\n",
    "print(cm_test)\n",
    "print(acc_test)"
   ]
  },
  {
   "cell_type": "markdown",
   "metadata": {
    "deletable": false,
    "editable": false,
    "nbgrader": {
     "cell_type": "markdown",
     "checksum": "e1305012e7ba747d2b66bf8995cb97bd",
     "grade": false,
     "grade_id": "cell-4c90f63864e1ad03",
     "locked": true,
     "schema_version": 3,
     "solution": false,
     "task": false
    }
   },
   "source": [
    "Celda de control:"
   ]
  },
  {
   "cell_type": "code",
   "execution_count": 24,
   "metadata": {
    "deletable": false,
    "editable": false,
    "nbgrader": {
     "cell_type": "code",
     "checksum": "f154e32539c4ad95ca6e939cc25b32dc",
     "grade": true,
     "grade_id": "cell-500ece4ed7d8b320",
     "locked": true,
     "points": 3,
     "schema_version": 3,
     "solution": false,
     "task": false
    }
   },
   "outputs": [],
   "source": [
    "assert np.round(acc_train, 4) == 0.9799\n",
    "assert np.round(acc_test, 4) == 0.9558\n",
    "assert (cm_train[0][0], cm_train[0][1], cm_train[1][0], cm_train[1][1]) == (265, 0, 9, 174)\n",
    "assert (cm_test[0][0], cm_test[0][1], cm_test[1][0], cm_test[1][1]) == (68, 0, 5, 40)"
   ]
  },
  {
   "cell_type": "markdown",
   "metadata": {
    "deletable": false,
    "editable": false,
    "nbgrader": {
     "cell_type": "markdown",
     "checksum": "bdea4ac28608d6f34673922f4634c113",
     "grade": false,
     "grade_id": "cell-8a9639c3a7928e08",
     "locked": true,
     "schema_version": 3,
     "solution": false,
     "task": false
    }
   },
   "source": [
    "### Modelos 6\n",
    "\n",
    "En el modelo previo, ya hemos encontrado un buen ajuste. Ahora toca explorar si existe alguna parametrización que ayude a mejorar esta métrica. \n",
    "\n",
    "En esta celda, vamos a separar primero el dataset en train y test. En concreto, separaremos el 20% del dataset en el test-set con el que validaremos la calidad real del modelo. Tras ello, solo con el _train_, se pide realizar un ajuste de machine learning con las siguientes características:\n",
    "* usar el mismo algoritmo que en el apartado anterior\n",
    "* usar la técnica de validación cruzada KFolds (5 folds) \n",
    "* usar un pipeline que encadene:\n",
    "     * OneHotEncoder si son tipo variables tipo _string_, especificando eliminar la primera columna si es binaria\n",
    "     * algortimo \n",
    "* realizar un tuneado del modelo con GridSearchCV (que almacenaremos en la variable *grid_model*) con los siguientes parámetros del algoritmo:\n",
    "     * _n\\_estimators_, 10, 20 y 30,\n",
    "     * *max_features*, auto, sqrt y log2,\n",
    "     * *max_depth*, 10, 20, 50, 70 y 100\n",
    "     * _criterion_, gini y entropy.\n",
    "    \n",
    "Con el mejor de los modelos tuneados, realizad la predicción de _train_ y _test_ para mostrar ambas matrices de confusión y accuracies como en la celda anterior."
   ]
  },
  {
   "cell_type": "code",
   "execution_count": 25,
   "metadata": {
    "deletable": false,
    "nbgrader": {
     "cell_type": "code",
     "checksum": "41d10eae9dbed1edfe561f467fe5ffd9",
     "grade": false,
     "grade_id": "cell-86a586d1f842910a",
     "locked": false,
     "schema_version": 3,
     "solution": true,
     "task": false
    }
   },
   "outputs": [
    {
     "name": "stdout",
     "output_type": "stream",
     "text": [
      "[[265   0]\n",
      " [  9 174]]\n",
      "0.9799107142857143\n",
      "[[68  0]\n",
      " [ 5 40]]\n",
      "0.9557522123893806\n"
     ]
    }
   ],
   "source": [
    "acc_train = 0\n",
    "acc_test = 0\n",
    "\n",
    "cm_train = np.array([[0, 0],[0, 0]])\n",
    "cm_test = np.array([[0, 0],[0, 0]])\n",
    "\n",
    "X = df[cat_cols+num_cols]\n",
    "y = df['labels']\n",
    "\n",
    "X_train, X_test, y_train, y_test = train_test_split(X, y, test_size=0.2, random_state=seed)\n",
    "\n",
    "ct = ColumnTransformer([\n",
    "    ('onehot',\n",
    "    OneHotEncoder(drop='if_binary'),\n",
    "    cat_cols\n",
    "    )\n",
    "], remainder='passthrough')\n",
    "\n",
    "pipe = Pipeline([\n",
    "    ('ColTransformer',ct),\n",
    "    ('RandomForestTree', RandomForestClassifier(random_state=seed))])\n",
    "\n",
    "\n",
    "parameters = {\n",
    "    'RandomForestTree__n_estimators': [10, 20, 30],\n",
    "    'RandomForestTree__max_features': ['auto','log2','sqrt'],\n",
    "    'RandomForestTree__max_depth': [10, 20, 50, 70, 100],\n",
    "    'RandomForestTree__criterion':['gini', 'entropy']\n",
    "}\n",
    "\n",
    "kf = KFold(n_splits=5, shuffle=True, random_state=seed)\n",
    "\n",
    "grid_model = GridSearchCV(\n",
    "    estimator=pipe,\n",
    "    param_grid=parameters,\n",
    "    cv=kf\n",
    ")\n",
    "\n",
    "# Entrenamos\n",
    "grid_model.fit(X_train, y_train)\n",
    "\n",
    "# Evaluamos\n",
    "y_train_hat = grid_model.predict(X_train)\n",
    "acc_train = accuracy_score(y_true=y_train, y_pred=y_train_hat)\n",
    "\n",
    "y_test_hat = grid_model.predict(X_test)\n",
    "acc_test = accuracy_score(y_true=y_test, y_pred=y_test_hat)\n",
    "\n",
    "# Matrices de confusion\n",
    "cm_train = confusion_matrix(y_train, y_train_hat)\n",
    "cm_test = confusion_matrix(y_test, y_test_hat)\n",
    "\n",
    "print(cm_train)\n",
    "print(acc_train)\n",
    "\n",
    "print(cm_test)\n",
    "print(acc_test)\n"
   ]
  },
  {
   "cell_type": "markdown",
   "metadata": {
    "deletable": false,
    "editable": false,
    "nbgrader": {
     "cell_type": "markdown",
     "checksum": "ace5b22df741e465a87c09ffb49f88fe",
     "grade": false,
     "grade_id": "cell-44b0aa5277268091",
     "locked": true,
     "schema_version": 3,
     "solution": false,
     "task": false
    }
   },
   "source": [
    "Celda de control:"
   ]
  },
  {
   "cell_type": "code",
   "execution_count": 26,
   "metadata": {
    "deletable": false,
    "editable": false,
    "nbgrader": {
     "cell_type": "code",
     "checksum": "6e6c73932f3729c6e2827e6687d3496d",
     "grade": true,
     "grade_id": "cell-c1df28aa144f6323",
     "locked": true,
     "points": 3,
     "schema_version": 3,
     "solution": false,
     "task": false
    }
   },
   "outputs": [],
   "source": [
    "assert grid_model.cv.random_state == seed\n",
    "assert np.round(acc_train, 4) == 0.9799\n",
    "assert np.round(acc_test, 4) == 0.9558\n",
    "assert (cm_train[0][0], cm_train[0][1], cm_train[1][0], cm_train[1][1]) == (265, 0, 9, 174)\n",
    "assert (cm_test[0][0], cm_test[0][1], cm_test[1][0], cm_test[1][1]) == (68, 0, 5, 40)\n",
    "assert len(grid_model.param_grid) == 4\n",
    "assert len(grid_model.estimator.named_steps) == 2"
   ]
  },
  {
   "cell_type": "code",
   "execution_count": null,
   "metadata": {},
   "outputs": [],
   "source": []
  }
 ],
 "metadata": {
  "kernelspec": {
   "display_name": "Python 3 (ipykernel)",
   "language": "python",
   "name": "python3"
  },
  "language_info": {
   "codemirror_mode": {
    "name": "ipython",
    "version": 3
   },
   "file_extension": ".py",
   "mimetype": "text/x-python",
   "name": "python",
   "nbconvert_exporter": "python",
   "pygments_lexer": "ipython3",
   "version": "3.9.16"
  }
 },
 "nbformat": 4,
 "nbformat_minor": 2
}
